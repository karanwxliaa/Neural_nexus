{
  "nbformat": 4,
  "nbformat_minor": 0,
  "metadata": {
    "colab": {
      "name": "Expression_Detection.ipynb",
      "provenance": [],
      "gpuType": "T4"
    },
    "kernelspec": {
      "name": "python3",
      "display_name": "Python 3"
    },
    "accelerator": "GPU"
  },
  "cells": [
    {
      "cell_type": "markdown",
      "source": [
        "# Neural Nexus\n",
        "GDSC Workshop on AI ML <br>\n",
        "~Jaskaran Singh Walia"
      ],
      "metadata": {
        "id": "9qgUCVb-YyY2"
      }
    },
    {
      "metadata": {
        "id": "feB_jknhucsG"
      },
      "cell_type": "markdown",
      "source": [
        "# DATASET\n",
        "\n",
        "1. https://www.kaggle.com/datasets/ahmedmoorsy/facial-expression\n",
        "2. https://www.kaggle.com/competitions/challenges-in-representation-learning-facial-expression-recognition-challenge/data"
      ]
    },
    {
      "cell_type": "markdown",
      "source": [
        "# Imports"
      ],
      "metadata": {
        "id": "J2JeQw1ZZhLt"
      }
    },
    {
      "metadata": {
        "id": "sBb3rknAivrV",
        "colab": {
          "base_uri": "https://localhost:8080/"
        },
        "outputId": "d50b8075-d412-4fa2-bec9-ef75b0eb0215"
      },
      "cell_type": "code",
      "source": [
        "# # Load the Drive helper and mount\n",
        "from google.colab import drive\n",
        "drive.mount('/content/drive')"
      ],
      "execution_count": 21,
      "outputs": [
        {
          "output_type": "stream",
          "name": "stdout",
          "text": [
            "Drive already mounted at /content/drive; to attempt to forcibly remount, call drive.mount(\"/content/drive\", force_remount=True).\n"
          ]
        }
      ]
    },
    {
      "cell_type": "markdown",
      "source": [
        "You have to download the data and upload it to your drive first before the next block of code"
      ],
      "metadata": {
        "id": "yVEteRRTZl4Q"
      }
    },
    {
      "metadata": {
        "id": "GlY0VbAYLXjh"
      },
      "cell_type": "code",
      "source": [
        "# #Unzipping the file\n",
        "# !tar -xf /content/drive/My\\ Drive/fer2013.tar.gz"
      ],
      "execution_count": 22,
      "outputs": []
    },
    {
      "cell_type": "code",
      "source": [
        "import tensorflow.compat.v1 as tf\n",
        "tf.disable_v2_behavior()\n",
        "import keras\n",
        "from keras.models import Sequential\n",
        "from keras.layers import Conv2D, MaxPooling2D, AveragePooling2D\n",
        "from keras.layers import Dense, Activation, Dropout, Flatten\n",
        "from keras.models import Sequential\n",
        "from keras.metrics import categorical_accuracy\n",
        "from keras.models import model_from_json\n",
        "from keras.callbacks import ModelCheckpoint\n",
        "from keras.optimizers import *\n",
        "from tensorflow.keras.layers import BatchNormalization\n",
        "from keras.preprocessing import image\n",
        "from keras.preprocessing.image import ImageDataGenerator\n",
        "\n",
        "import numpy as np\n",
        "import matplotlib.pyplot as plt"
      ],
      "metadata": {
        "id": "K4IBTU9c6yOM"
      },
      "execution_count": 23,
      "outputs": []
    },
    {
      "cell_type": "markdown",
      "source": [
        "# Data Pre-processing"
      ],
      "metadata": {
        "id": "Q-0J0kT0ZwPM"
      }
    },
    {
      "cell_type": "code",
      "source": [
        "# #variables\n",
        "# num_classes = 7 #angry, disgust, fear, happy, sad, surprise, neutral\n",
        "# batch_size = 256\n",
        "# epochs = 100\n",
        "\n",
        "\n",
        "# with open(\"fer2013/fer2013.csv\") as f:\n",
        "#   content = f.readlines()\n",
        "\n",
        "# lines = np.array(content)\n",
        "\n",
        "# num_of_instances = lines.size\n",
        "# print(\"number of instances: \",num_of_instances)\n",
        "# print(\"instance length: \",len(lines[1].split(\",\")[1].split(\" \")))\n",
        "\n",
        "# #------------------------------\n",
        "# #initialize trainset and test set\n",
        "# x_train, y_train, x_test, y_test = [], [], [], []\n",
        "\n",
        "# #------------------------------\n",
        "# #transfer train and test set data\n",
        "# for i in range(1,num_of_instances):\n",
        "#     try:\n",
        "#         emotion, img, usage = lines[i].split(\",\")\n",
        "\n",
        "#         val = img.split(\" \")\n",
        "\n",
        "#         pixels = np.array(val, 'float32')\n",
        "\n",
        "#         emotion = keras.utils.to_categorical(emotion, num_classes)\n",
        "\n",
        "#         if 'Training' in usage:\n",
        "#             y_train.append(emotion)\n",
        "#             x_train.append(pixels)\n",
        "#         elif 'PublicTest' in usage:\n",
        "#             y_test.append(emotion)\n",
        "#             x_test.append(pixels)\n",
        "#     except:\n",
        "#       print(\"\", end=\"\")\n",
        "\n",
        "# #------------------------------\n",
        "# #data transformation for train and test sets\n",
        "# x_train = np.array(x_train, 'float32')\n",
        "# y_train = np.array(y_train, 'float32')\n",
        "# x_test = np.array(x_test, 'float32')\n",
        "# y_test = np.array(y_test, 'float32')\n",
        "\n",
        "# x_train /= 255 #normalize inputs between [0, 1]\n",
        "# x_test /= 255\n",
        "\n",
        "# x_train = x_train.reshape(x_train.shape[0], 48, 48, 1)\n",
        "# x_train = x_train.astype('float32')\n",
        "# x_test = x_test.reshape(x_test.shape[0], 48, 48, 1)\n",
        "# x_test = x_test.astype('float32')\n",
        "\n",
        "# print(x_train.shape[0], 'train samples')\n",
        "# print(x_test.shape[0], 'test samples')"
      ],
      "metadata": {
        "id": "5V40oidd7E1i"
      },
      "execution_count": 24,
      "outputs": []
    },
    {
      "cell_type": "markdown",
      "source": [
        "# Model Definition"
      ],
      "metadata": {
        "id": "ju45S0s_bW34"
      }
    },
    {
      "cell_type": "code",
      "source": [
        "def my_model():\n",
        "    model = Sequential()\n",
        "    input_shape = (48,48,1)\n",
        "    model.add(Conv2D(64, (5, 5), input_shape=input_shape,activation='relu', padding='same'))\n",
        "    model.add(Conv2D(64, (5, 5), activation='relu', padding='same'))\n",
        "    model.add(BatchNormalization())\n",
        "    model.add(MaxPooling2D(pool_size=(2, 2)))\n",
        "\n",
        "    model.add(Conv2D(128, (5, 5),activation='relu',padding='same'))\n",
        "    model.add(Conv2D(128, (5, 5),activation='relu',padding='same'))\n",
        "    model.add(BatchNormalization())\n",
        "    model.add(MaxPooling2D(pool_size=(2, 2)))\n",
        "\n",
        "    model.add(Conv2D(256, (3, 3),activation='relu',padding='same'))\n",
        "    model.add(Conv2D(256, (3, 3),activation='relu',padding='same'))\n",
        "    model.add(BatchNormalization())\n",
        "    model.add(MaxPooling2D(pool_size=(2, 2)))\n",
        "\n",
        "    model.add(Flatten())\n",
        "    model.add(Dense(128))\n",
        "    model.add(BatchNormalization())\n",
        "    model.add(Activation('relu'))\n",
        "    model.add(Dropout(0.2))\n",
        "    model.add(Dense(7))\n",
        "    model.add(Activation('softmax'))\n",
        "\n",
        "    model.compile(loss='categorical_crossentropy', metrics=['accuracy'],optimizer='adam')\n",
        "    # UNCOMMENT THIS TO VIEW THE ARCHITECTURE\n",
        "    #model.summary()\n",
        "\n",
        "    return model\n",
        "model=my_model()\n",
        "model.summary()"
      ],
      "metadata": {
        "colab": {
          "base_uri": "https://localhost:8080/"
        },
        "id": "W_cyW3m0Ogtp",
        "outputId": "cd74ad26-c5b7-408f-d368-bd1c93423f55"
      },
      "execution_count": 25,
      "outputs": [
        {
          "output_type": "stream",
          "name": "stdout",
          "text": [
            "Model: \"sequential_1\"\n",
            "_________________________________________________________________\n",
            " Layer (type)                Output Shape              Param #   \n",
            "=================================================================\n",
            " conv2d_6 (Conv2D)           (None, 48, 48, 64)        1664      \n",
            "                                                                 \n",
            " conv2d_7 (Conv2D)           (None, 48, 48, 64)        102464    \n",
            "                                                                 \n",
            " batch_normalization_4 (Bat  (None, 48, 48, 64)        256       \n",
            " chNormalization)                                                \n",
            "                                                                 \n",
            " max_pooling2d_3 (MaxPoolin  (None, 24, 24, 64)        0         \n",
            " g2D)                                                            \n",
            "                                                                 \n",
            " conv2d_8 (Conv2D)           (None, 24, 24, 128)       204928    \n",
            "                                                                 \n",
            " conv2d_9 (Conv2D)           (None, 24, 24, 128)       409728    \n",
            "                                                                 \n",
            " batch_normalization_5 (Bat  (None, 24, 24, 128)       512       \n",
            " chNormalization)                                                \n",
            "                                                                 \n",
            " max_pooling2d_4 (MaxPoolin  (None, 12, 12, 128)       0         \n",
            " g2D)                                                            \n",
            "                                                                 \n",
            " conv2d_10 (Conv2D)          (None, 12, 12, 256)       295168    \n",
            "                                                                 \n",
            " conv2d_11 (Conv2D)          (None, 12, 12, 256)       590080    \n",
            "                                                                 \n",
            " batch_normalization_6 (Bat  (None, 12, 12, 256)       1024      \n",
            " chNormalization)                                                \n",
            "                                                                 \n",
            " max_pooling2d_5 (MaxPoolin  (None, 6, 6, 256)         0         \n",
            " g2D)                                                            \n",
            "                                                                 \n",
            " flatten_1 (Flatten)         (None, 9216)              0         \n",
            "                                                                 \n",
            " dense_2 (Dense)             (None, 128)               1179776   \n",
            "                                                                 \n",
            " batch_normalization_7 (Bat  (None, 128)               512       \n",
            " chNormalization)                                                \n",
            "                                                                 \n",
            " activation_2 (Activation)   (None, 128)               0         \n",
            "                                                                 \n",
            " dropout_1 (Dropout)         (None, 128)               0         \n",
            "                                                                 \n",
            " dense_3 (Dense)             (None, 7)                 903       \n",
            "                                                                 \n",
            " activation_3 (Activation)   (None, 7)                 0         \n",
            "                                                                 \n",
            "=================================================================\n",
            "Total params: 2787015 (10.63 MB)\n",
            "Trainable params: 2785863 (10.63 MB)\n",
            "Non-trainable params: 1152 (4.50 KB)\n",
            "_________________________________________________________________\n"
          ]
        }
      ]
    },
    {
      "cell_type": "code",
      "source": [
        "#------------------------------\n",
        "#batch process\n",
        "# gen = ImageDataGenerator()\n",
        "# train_generator = gen.flow(x_train, y_train, batch_size=batch_size)\n",
        "\n",
        "#------------------------------\n",
        "\n",
        "model.compile(loss='categorical_crossentropy'\n",
        "    , optimizer=tf.keras.optimizers.Adam()\n",
        "    , metrics=['accuracy']\n",
        ")\n",
        "\n",
        "#------------------------------"
      ],
      "metadata": {
        "id": "4SvSd0B5PdNu"
      },
      "execution_count": 26,
      "outputs": []
    },
    {
      "cell_type": "markdown",
      "source": [
        "# Train / Load PT Model"
      ],
      "metadata": {
        "id": "Qx9QzZ0BbaXq"
      }
    },
    {
      "cell_type": "code",
      "source": [
        "fit = False\n",
        "\n",
        "if fit == True:\n",
        "\t#model.fit_generator(x_train, y_train, epochs=epochs) #train for all trainset\n",
        "\tmodel.fit_generator(train_generator, steps_per_epoch=batch_size, epochs=epochs) #train for randomly selected one\n",
        "else:\n",
        "\tmodel.load_weights('/content/drive/MyDrive/model2.h5') #load weights"
      ],
      "metadata": {
        "id": "-beW43bv7Wss"
      },
      "execution_count": 27,
      "outputs": []
    },
    {
      "cell_type": "markdown",
      "source": [
        "# Evaluate"
      ],
      "metadata": {
        "id": "8TbVEZs4bdJo"
      }
    },
    {
      "metadata": {
        "id": "1vj-nSTTkO9T"
      },
      "cell_type": "code",
      "source": [
        "#Evaluation\n",
        "# train_score = model.evaluate(x_train, y_train, verbose=0)\n",
        "# print('Train loss:', train_score[0])\n",
        "# print('Train accuracy:', 100*train_score[1])\n",
        "\n",
        "# test_score = model.evaluate(x_test, y_test, verbose=0)\n",
        "# print('Test loss:', test_score[0])\n",
        "# print('Test accuracy:', 100*test_score[1])"
      ],
      "execution_count": 28,
      "outputs": []
    },
    {
      "cell_type": "code",
      "source": [
        "#------------------------------\n",
        "#function for drawing bar chart for emotion preditions\n",
        "def emotion_analysis(emotions):\n",
        "    objects = ('angry', 'disgust', 'fear', 'happy', 'sad', 'surprise', 'neutral')\n",
        "    y_pos = np.arange(len(objects))\n",
        "\n",
        "    plt.bar(y_pos, emotions, align='center', alpha=0.5)\n",
        "    plt.xticks(y_pos, objects)\n",
        "    plt.ylabel('percentage')\n",
        "    plt.title('emotion')\n",
        "\n",
        "    plt.show()\n",
        "#------------------------------\n"
      ],
      "metadata": {
        "id": "UjUXAPFk7VHx"
      },
      "execution_count": 29,
      "outputs": []
    },
    {
      "metadata": {
        "id": "KJsn2kYUPSfn"
      },
      "cell_type": "code",
      "source": [
        "# monitor_testset_results = True\n",
        "\n",
        "# if monitor_testset_results == True:\n",
        "# \t#make predictions for test set\n",
        "# \tpredictions = model.predict(x_test)\n",
        "\n",
        "# \tindex = 0\n",
        "# \tfor i in predictions:\n",
        "# \t\tif index < 30 and index >= 20:\n",
        "# \t\t\t#print(i) #predicted scores\n",
        "# \t\t\t#print(y_test[index]) #actual scores\n",
        "\n",
        "# \t\t\ttesting_img = np.array(x_test[index], 'float32')\n",
        "# \t\t\ttesting_img = testing_img.reshape([48, 48]);\n",
        "\n",
        "# \t\t\tplt.gray()\n",
        "# \t\t\tplt.imshow(testing_img)\n",
        "# \t\t\tplt.show()\n",
        "\n",
        "# \t\t\tprint(i)\n",
        "\n",
        "# \t\t\temotion_analysis(i)\n",
        "# \t\t\tprint(\"----------------------------------------------\")\n",
        "# \t\tindex = index + 1"
      ],
      "execution_count": 30,
      "outputs": []
    },
    {
      "cell_type": "code",
      "source": [
        "# #Confusion Matrix.\n",
        "\n",
        "# from sklearn.metrics import classification_report, confusion_matrix\n",
        "\n",
        "# pred_list = []; actual_list = []\n",
        "\n",
        "# for i in predictions:\n",
        "\n",
        "#   pred_list.append(np.argmax(i))\n",
        "\n",
        "# for i in y_test:\n",
        "\n",
        "#   actual_list.append(np.argmax(i))\n",
        "\n",
        "# confusion_matrix(actual_list, pred_list)"
      ],
      "metadata": {
        "id": "_0PJGF1Y9iz6"
      },
      "execution_count": 31,
      "outputs": []
    },
    {
      "metadata": {
        "id": "FtgHdvjEmf5S"
      },
      "cell_type": "code",
      "source": [
        "def emotion_analysis(emotions):\n",
        "    objects = ('angry', 'disgust', 'fear', 'happy', 'sad', 'surprise', 'neutral')\n",
        "    y_pos = np.arange(len(objects))\n",
        "\n",
        "    plt.bar(y_pos, emotions, align='center', alpha=0.5)\n",
        "    plt.xticks(y_pos, objects)\n",
        "    plt.ylabel('percentage')\n",
        "    plt.title('emotion')\n",
        "\n",
        "    plt.show()"
      ],
      "execution_count": 32,
      "outputs": []
    },
    {
      "cell_type": "markdown",
      "source": [
        "# Interractive Example"
      ],
      "metadata": {
        "id": "j98iB5pPbheg"
      }
    },
    {
      "metadata": {
        "id": "Je1qP-gpUJSU"
      },
      "cell_type": "code",
      "source": [
        "#CODE for Capturing an image on Colab from here: https://colab.research.google.com/notebook#fileId=1OnUy6eFE7XhdfGfAHDCqQxpwueTOj_NO\n",
        "\n",
        "from IPython.display import display, Javascript\n",
        "from google.colab.output import eval_js\n",
        "from base64 import b64decode\n",
        "\n",
        "def take_photo(filename='photo.jpg', quality=0.8):\n",
        "  js = Javascript('''\n",
        "    async function takePhoto(quality) {\n",
        "      const div = document.createElement('div');\n",
        "      const capture = document.createElement('button');\n",
        "      capture.textContent = 'Capture';\n",
        "      div.appendChild(capture);\n",
        "\n",
        "      const video = document.createElement('video');\n",
        "      video.style.display = 'block';\n",
        "      const stream = await navigator.mediaDevices.getUserMedia({video: true});\n",
        "\n",
        "      document.body.appendChild(div);\n",
        "      div.appendChild(video);\n",
        "      video.srcObject = stream;\n",
        "      await video.play();\n",
        "\n",
        "      // Resize the output to fit the video element.\n",
        "      google.colab.output.setIframeHeight(document.documentElement.scrollHeight, true);\n",
        "\n",
        "      // Wait for Capture to be clicked.\n",
        "      await new Promise((resolve) => capture.onclick = resolve);\n",
        "\n",
        "      const canvas = document.createElement('canvas');\n",
        "      canvas.width = video.videoWidth;\n",
        "      canvas.height = video.videoHeight;\n",
        "      canvas.getContext('2d').drawImage(video, 0, 0);\n",
        "      stream.getVideoTracks()[0].stop();\n",
        "      div.remove();\n",
        "      return canvas.toDataURL('image/jpeg', quality);\n",
        "    }\n",
        "    ''')\n",
        "  display(js)\n",
        "  data = eval_js('takePhoto({})'.format(quality))\n",
        "  binary = b64decode(data.split(',')[1])\n",
        "  with open(filename, 'wb') as f:\n",
        "    f.write(binary)\n",
        "  return filename"
      ],
      "execution_count": 33,
      "outputs": []
    },
    {
      "metadata": {
        "id": "xv63Tmy-weJ4",
        "colab": {
          "base_uri": "https://localhost:8080/",
          "height": 35
        },
        "outputId": "8aa3e1c8-3d98-4b86-bb62-d1a739839878"
      },
      "cell_type": "code",
      "source": [
        "take_photo()"
      ],
      "execution_count": 37,
      "outputs": [
        {
          "output_type": "display_data",
          "data": {
            "text/plain": [
              "<IPython.core.display.Javascript object>"
            ],
            "application/javascript": [
              "\n",
              "    async function takePhoto(quality) {\n",
              "      const div = document.createElement('div');\n",
              "      const capture = document.createElement('button');\n",
              "      capture.textContent = 'Capture';\n",
              "      div.appendChild(capture);\n",
              "\n",
              "      const video = document.createElement('video');\n",
              "      video.style.display = 'block';\n",
              "      const stream = await navigator.mediaDevices.getUserMedia({video: true});\n",
              "\n",
              "      document.body.appendChild(div);\n",
              "      div.appendChild(video);\n",
              "      video.srcObject = stream;\n",
              "      await video.play();\n",
              "\n",
              "      // Resize the output to fit the video element.\n",
              "      google.colab.output.setIframeHeight(document.documentElement.scrollHeight, true);\n",
              "\n",
              "      // Wait for Capture to be clicked.\n",
              "      await new Promise((resolve) => capture.onclick = resolve);\n",
              "\n",
              "      const canvas = document.createElement('canvas');\n",
              "      canvas.width = video.videoWidth;\n",
              "      canvas.height = video.videoHeight;\n",
              "      canvas.getContext('2d').drawImage(video, 0, 0);\n",
              "      stream.getVideoTracks()[0].stop();\n",
              "      div.remove();\n",
              "      return canvas.toDataURL('image/jpeg', quality);\n",
              "    }\n",
              "    "
            ]
          },
          "metadata": {}
        },
        {
          "output_type": "execute_result",
          "data": {
            "text/plain": [
              "'photo.jpg'"
            ],
            "application/vnd.google.colaboratory.intrinsic+json": {
              "type": "string"
            }
          },
          "metadata": {},
          "execution_count": 37
        }
      ]
    },
    {
      "cell_type": "code",
      "source": [
        "import cv2\n",
        "import numpy as np\n",
        "from keras.preprocessing import image\n",
        "import matplotlib.pyplot as plt\n",
        "\n",
        "def crop_face(filepath):\n",
        "    # Load the Haar Cascade for face detection\n",
        "    face_cascade = cv2.CascadeClassifier(cv2.data.haarcascades + 'haarcascade_frontalface_default.xml')\n",
        "\n",
        "    # Read the image and convert to grayscale\n",
        "    img = cv2.imread(filepath)\n",
        "    gray = cv2.cvtColor(img, cv2.COLOR_BGR2GRAY)\n",
        "\n",
        "    # Detect faces\n",
        "    faces = face_cascade.detectMultiScale(gray, 1.3, 5)\n",
        "\n",
        "    if len(faces) == 0:\n",
        "        return None\n",
        "\n",
        "    # Assuming the first face is the target (you might want to change this)\n",
        "    (x, y, w, h) = faces[0]\n",
        "\n",
        "    # Crop and resize the face region\n",
        "    face = gray[y:y+h, x:x+w]\n",
        "    face = cv2.resize(face, (48, 48))\n",
        "    return face\n",
        "\n",
        "# File path\n",
        "file = 'photo.jpg'\n",
        "\n",
        "# Crop the face\n",
        "cropped_face = crop_face(file)\n",
        "\n",
        "if cropped_face is not None:\n",
        "    # Prepare the image for the model\n",
        "    x = np.array(cropped_face, 'float32')\n",
        "    x = np.expand_dims(x, axis=0)\n",
        "    x = np.expand_dims(x, axis=-1)\n",
        "    x /= 255\n",
        "\n",
        "    # Predict emotion\n",
        "    custom = model.predict(x)\n",
        "    emotion_label = emotion_analysis(custom[0])\n",
        "\n",
        "    print(emotion_label)\n",
        "\n",
        "    # Display the cropped face\n",
        "    plt.gray()\n",
        "    plt.imshow(cropped_face)\n",
        "    plt.show()\n",
        "else:\n",
        "    print(\"No face detected\")\n"
      ],
      "metadata": {
        "colab": {
          "base_uri": "https://localhost:8080/",
          "height": 883
        },
        "id": "SugxyxnRID8-",
        "outputId": "59938d51-ea53-4795-ac94-7d12e1a584b7"
      },
      "execution_count": 38,
      "outputs": [
        {
          "output_type": "display_data",
          "data": {
            "text/plain": [
              "<Figure size 640x480 with 1 Axes>"
            ],
            "image/png": "[encoded data removed]"
          },
          "metadata": {}
        },
        {
          "output_type": "stream",
          "name": "stdout",
          "text": [
            "None\n"
          ]
        },
        {
          "output_type": "display_data",
          "data": {
            "text/plain": [
              "<Figure size 640x480 with 1 Axes>"
            ],
            "image/png": "[encoded data removed]"
          },
          "metadata": {}
        }
      ]
    },
    {
      "cell_type": "code",
      "source": [],
      "metadata": {
        "id": "RpTNf9ZBbsVC"
      },
      "execution_count": null,
      "outputs": []
    }
  ]
}